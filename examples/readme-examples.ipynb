{
 "cells": [
  {
   "cell_type": "code",
   "execution_count": 2,
   "id": "57283b99",
   "metadata": {
    "ExecuteTime": {
     "end_time": "2022-09-18T05:42:37.404214Z",
     "start_time": "2022-09-18T05:42:37.380210Z"
    },
    "code_folding": [],
    "scrolled": true
   },
   "outputs": [
    {
     "ename": "AssertionError",
     "evalue": "sleep not found. Should be one of 'mortality'",
     "output_type": "error",
     "traceback": [
      "\u001b[1;31m---------------------------------------------------------------------------\u001b[0m",
      "\u001b[1;31mAssertionError\u001b[0m                            Traceback (most recent call last)",
      "Input \u001b[1;32mIn [2]\u001b[0m, in \u001b[0;36m<cell line: 10>\u001b[1;34m()\u001b[0m\n\u001b[0;32m      7\u001b[0m     savepath \u001b[38;5;241m=\u001b[39m os\u001b[38;5;241m.\u001b[39mpath\u001b[38;5;241m.\u001b[39mjoin(\u001b[38;5;124m'\u001b[39m\u001b[38;5;124m../docs/images\u001b[39m\u001b[38;5;124m'\u001b[39m, savename)\n\u001b[0;32m      8\u001b[0m     plt\u001b[38;5;241m.\u001b[39msavefig(\u001b[38;5;124mf\u001b[39m\u001b[38;5;124m'\u001b[39m\u001b[38;5;132;01m{\u001b[39;00msavepath\u001b[38;5;132;01m}\u001b[39;00m\u001b[38;5;124m.png\u001b[39m\u001b[38;5;124m'\u001b[39m, dpi\u001b[38;5;241m=\u001b[39m\u001b[38;5;124m'\u001b[39m\u001b[38;5;124mfigure\u001b[39m\u001b[38;5;124m'\u001b[39m, bbox_inches\u001b[38;5;241m=\u001b[39m\u001b[38;5;124m'\u001b[39m\u001b[38;5;124mtight\u001b[39m\u001b[38;5;124m'\u001b[39m)\n\u001b[1;32m---> 10\u001b[0m df \u001b[38;5;241m=\u001b[39m \u001b[43mfp\u001b[49m\u001b[38;5;241;43m.\u001b[39;49m\u001b[43mload_data\u001b[49m\u001b[43m(\u001b[49m\u001b[38;5;124;43m\"\u001b[39;49m\u001b[38;5;124;43msleep\u001b[39;49m\u001b[38;5;124;43m\"\u001b[39;49m\u001b[43m)\u001b[49m\n\u001b[0;32m     11\u001b[0m df\n",
      "File \u001b[1;32mD:\\ProgramData\\Anaconda3\\lib\\site-packages\\forestplot\\dataframe_utils.py:147\u001b[0m, in \u001b[0;36mload_data\u001b[1;34m(name, **param_dict)\u001b[0m\n\u001b[0;32m    145\u001b[0m \u001b[38;5;28;01melse\u001b[39;00m:\n\u001b[0;32m    146\u001b[0m     available_data_str \u001b[38;5;241m=\u001b[39m \u001b[38;5;124m\"\u001b[39m\u001b[38;5;124m, \u001b[39m\u001b[38;5;124m\"\u001b[39m\u001b[38;5;241m.\u001b[39mjoin(available_data)\n\u001b[1;32m--> 147\u001b[0m     \u001b[38;5;28;01mraise\u001b[39;00m \u001b[38;5;167;01mAssertionError\u001b[39;00m(\u001b[38;5;124mf\u001b[39m\u001b[38;5;124m\"\u001b[39m\u001b[38;5;132;01m{\u001b[39;00mname\u001b[38;5;132;01m}\u001b[39;00m\u001b[38;5;124m not found. Should be one of \u001b[39m\u001b[38;5;124m'\u001b[39m\u001b[38;5;132;01m{\u001b[39;00mavailable_data_str\u001b[38;5;132;01m}\u001b[39;00m\u001b[38;5;124m'\u001b[39m\u001b[38;5;124m\"\u001b[39m)\n",
      "\u001b[1;31mAssertionError\u001b[0m: sleep not found. Should be one of 'mortality'"
     ]
    }
   ],
   "source": [
    "import os\n",
    "import pandas as pd\n",
    "pd.set_option('display.max_columns', 100)\n",
    "import forestplot as fp\n",
    "import matplotlib.pyplot as plt\n",
    "def save_mpl_fig(savename):\n",
    "    savepath = os.path.join('../docs/images', savename)\n",
    "    plt.savefig(f'{savepath}.png', dpi='figure', bbox_inches='tight')\n",
    "\n",
    "df = fp.load_data(\"sleep\")\n",
    "df"
   ]
  },
  {
   "cell_type": "markdown",
   "id": "b69b02eb",
   "metadata": {},
   "source": [
    "### Out-of-box\n",
    "\n",
    "* Quickstart example\n",
    "* Estimate and confidence interval will be printed on left"
   ]
  },
  {
   "cell_type": "code",
   "execution_count": null,
   "id": "0ad20902",
   "metadata": {
    "ExecuteTime": {
     "end_time": "2022-09-18T05:42:35.787966Z",
     "start_time": "2022-09-18T05:42:35.787966Z"
    }
   },
   "outputs": [],
   "source": [
    "fp.forestplot(df,  # the dataframe with results data\n",
    "              estimate='r',  # col containing estimated effect size \n",
    "              ll=\"ll\", hl=\"hl\",  # columns containing conf. int. lower and higher limits\n",
    "              varlabel='label',  # column containing variable label\n",
    "              ylabel=\"Confidence interval\",  # y-label title\n",
    "              xlabel=\"Pearson correlation\"  # x-label title\n",
    "              )\n",
    "save_mpl_fig('vanilla')"
   ]
  },
  {
   "cell_type": "markdown",
   "id": "74c20706",
   "metadata": {},
   "source": [
    "### Add variable groupings, add group order, and sort by estimate size\n",
    "* Use conf. int.'s margin of error (`moerror`), if available, instead of hl and ll\n",
    "* ll will be automatically inferred as (est - margin of error)\n",
    "* hl will be automatically inferred as (est + margin of error)\n",
    "* Add group labels (`groupvar`)\n",
    "* Add group ordering (this is optional, `group_order`)\n",
    "* Sort estimates (`sort`)"
   ]
  },
  {
   "cell_type": "code",
   "execution_count": null,
   "id": "9bba37e1",
   "metadata": {
    "ExecuteTime": {
     "end_time": "2022-09-18T05:42:35.788957Z",
     "start_time": "2022-09-18T05:42:35.788957Z"
    },
    "code_folding": []
   },
   "outputs": [],
   "source": [
    "fp.forestplot(df,  # the dataframe with results data\n",
    "              estimate='r',  # col containing estimated effect size \n",
    "              moerror='moerror',  # columns containing conf. int. margin of error\n",
    "              varlabel='label',  # column containing variable label\n",
    "              groupvar='group',  #  Add variable groupings \n",
    "              #  group ordering\n",
    "              group_order=['labor factors', 'occupation', 'age', 'health factors', \n",
    "                           'family factors', 'area of residence', 'other factors'],\n",
    "              sort=True  #  sort in ascending order (sorts within group if group is specified)               \n",
    "              )\n",
    "save_mpl_fig('group-grouporder-sort')"
   ]
  },
  {
   "cell_type": "markdown",
   "id": "853a899d",
   "metadata": {},
   "source": [
    "### Add P-value and color alternate rows gray\n",
    "* Add (formatted) p-values on the right (`pval`)\n",
    "* P-values are automatically formatted\n",
    "* Color alternate colors gray (`color_alt_rows`)"
   ]
  },
  {
   "cell_type": "code",
   "execution_count": null,
   "id": "54e05f72",
   "metadata": {
    "ExecuteTime": {
     "end_time": "2022-09-18T05:42:35.789958Z",
     "start_time": "2022-09-18T05:42:35.789958Z"
    }
   },
   "outputs": [],
   "source": [
    "fp.forestplot(df,  # the dataframe with results data\n",
    "              estimate='r',  # col containing estimated effect size \n",
    "              ll=\"ll\", hl=\"hl\",  # columns containing conf. int. lower and higher limits\n",
    "              varlabel='label',  # column containing variable label\n",
    "              groupvar='group',  #  Add variable groupings \n",
    "              #  group ordering\n",
    "              group_order=['labor factors', 'occupation', 'age', 'health factors', \n",
    "                           'family factors', 'area of residence', 'other factors'],\n",
    "              sort=True,  #  sort in ascending order (sorts within group if group is specified)               \n",
    "              pval='p-val',  # Column of p-value to be reported on right\n",
    "              color_alt_rows=True,  # Gray alternate rows\n",
    "              ylabel='Est.(95% Conf. Int.)',  # ylabel to print\n",
    "              **{'ylabel1_size': 11}  # control size of printed ylabel\n",
    "              )\n",
    "save_mpl_fig('group-grouporder-pvalue-sort-colorrows')"
   ]
  },
  {
   "cell_type": "markdown",
   "id": "0b12c633",
   "metadata": {},
   "source": [
    "### Add custom annotations and make it a table\n",
    "* Add more custom annotations on left and right (`annote` and `rightannote`)\n",
    "* Add headers for the annotations (`annoteheaders` and `right_annoteheaders`)\n",
    "* Make the plot a table (`table`)"
   ]
  },
  {
   "cell_type": "code",
   "execution_count": null,
   "id": "26f2f462",
   "metadata": {
    "ExecuteTime": {
     "end_time": "2022-09-18T05:42:35.790957Z",
     "start_time": "2022-09-18T05:42:35.790957Z"
    }
   },
   "outputs": [],
   "source": [
    "fp.forestplot(df,  # the dataframe with results data\n",
    "              estimate='r',  # col containing estimated effect size \n",
    "              ll='ll', hl='hl',  # lower & higher limits of conf. int.\n",
    "              varlabel='label',  # column containing the varlabels to be printed on far left\n",
    "              pval='p-val',  # column containing p-values to be formatted\n",
    "              annote=['n', 'power', \"est_ci\"],  # columns to report on left of plot\n",
    "              annoteheaders=['N', 'Power', 'Est. (95% Conf. Int.)'],  # ^corresponding headers\n",
    "              rightannote=['formatted_pval', 'group'],  # columns to report on right of plot \n",
    "              right_annoteheaders=['P-value', 'Variable group'],  # ^corresponding headers\n",
    "              xlabel='Pearson correlation coefficient',  # x-label title\n",
    "              table=True,  # Format as a table\n",
    "              )\n",
    "save_mpl_fig('leftannote-rightannote-table')"
   ]
  },
  {
   "cell_type": "markdown",
   "id": "cd2a194d",
   "metadata": {},
   "source": [
    "### Strip down all bells and whistle\n",
    "* Out-of-box settings but\n",
    "* Turn off reporting of confidence interval on the left\n",
    "* Turn off left-flushing of variable labels"
   ]
  },
  {
   "cell_type": "code",
   "execution_count": null,
   "id": "fb38d94e",
   "metadata": {
    "ExecuteTime": {
     "end_time": "2022-09-18T05:42:35.791958Z",
     "start_time": "2022-09-18T05:42:35.791958Z"
    }
   },
   "outputs": [],
   "source": [
    "fp.forestplot(df,  # the dataframe with results data\n",
    "              estimate='r',  # col containing estimated effect size \n",
    "              ll='ll', hl='hl',  # lower & higher limits of conf. int.\n",
    "              varlabel='label',  # column containing the varlabels to be printed on far left\n",
    "              ci_report=False,  # Turn off conf. int. reporting\n",
    "              flush=False,  # Turn off left-flush of text\n",
    "              **{'fontfamily': 'sans-serif'}  # revert to sans-serif                              \n",
    "              )\n",
    "save_mpl_fig('vcoefplot')"
   ]
  },
  {
   "cell_type": "markdown",
   "id": "f3972fde",
   "metadata": {},
   "source": [
    "### Forest plot as a table, with multiple customizations\n",
    "\n",
    "* Multiple annotations on left and right of forest plot (`annote`, `rightannote`)\n",
    "* Format p-values (`pval`)\n",
    "* Add variable groupings (`groupvar`) and adjust group order (`group_order`) to report\n",
    "* Make plot a table (`table`)"
   ]
  },
  {
   "cell_type": "code",
   "execution_count": null,
   "id": "60ed7bcf",
   "metadata": {
    "ExecuteTime": {
     "end_time": "2022-09-18T05:42:35.792957Z",
     "start_time": "2022-09-18T05:42:35.792957Z"
    },
    "scrolled": false
   },
   "outputs": [],
   "source": [
    "fp.forestplot(df,  # the dataframe with results data\n",
    "              estimate='r',  # col containing estimated effect size \n",
    "              ll='ll', hl='hl',  # lower & higher limits of conf. int.\n",
    "              varlabel='label',  # column containing the varlabels to be printed on far left\n",
    "              pval='p-val',  # column containing p-values to be formatted\n",
    "              annote=['n', 'power', \"est_ci\"],  # columns to report on left of plot\n",
    "              annoteheaders=['N', 'Power', 'Est. (95% Conf. Int.)'],  # ^corresponding headers\n",
    "              rightannote=['formatted_pval', 'group'],  # columns to report on right of plot \n",
    "              right_annoteheaders=['P-value', 'Variable group'],  # ^corresponding headers\n",
    "              groupvar='group',  # column containing group labels\n",
    "              group_order=['labor factors', 'occupation', 'age', 'health factors', \n",
    "              'family factors', 'area of residence', 'other factors'],                   \n",
    "              xlabel='Pearson correlation coefficient',  # x-label title\n",
    "              xticks=[-.4,-.2,0, .2],  # x-ticks to be printed\n",
    "              sort=True,  # sort estimates in ascending order\n",
    "              table=True,  # Format as a table\n",
    "              **{'marker': 'D',  # set maker symbol as diamond\n",
    "                 'markersize': 35,  # adjust marker size\n",
    "                 'xlinestyle': (0, (10, 5)),  # long dash for x-reference line \n",
    "                 'xlinecolor': '.1',  # gray color for x-reference line\n",
    "                 'xtick_size': 12,  # adjust x-ticker fontsize\n",
    "                }  \n",
    "              )\n",
    "save_mpl_fig('main')"
   ]
  },
  {
   "cell_type": "code",
   "execution_count": null,
   "id": "93727621",
   "metadata": {},
   "outputs": [],
   "source": []
  }
 ],
 "metadata": {
  "kernelspec": {
   "display_name": "Python 3",
   "language": "python",
   "name": "python3"
  },
  "language_info": {
   "codemirror_mode": {
    "name": "ipython",
    "version": 3
   },
   "file_extension": ".py",
   "mimetype": "text/x-python",
   "name": "python",
   "nbconvert_exporter": "python",
   "pygments_lexer": "ipython3",
   "version": "3.9.12"
  },
  "toc": {
   "base_numbering": 1,
   "nav_menu": {},
   "number_sections": true,
   "sideBar": true,
   "skip_h1_title": false,
   "title_cell": "Table of Contents",
   "title_sidebar": "Contents",
   "toc_cell": false,
   "toc_position": {
    "height": "calc(100% - 180px)",
    "left": "10px",
    "top": "150px",
    "width": "227.5px"
   },
   "toc_section_display": true,
   "toc_window_display": true
  },
  "varInspector": {
   "cols": {
    "lenName": 16,
    "lenType": 16,
    "lenVar": 40
   },
   "kernels_config": {
    "python": {
     "delete_cmd_postfix": "",
     "delete_cmd_prefix": "del ",
     "library": "var_list.py",
     "varRefreshCmd": "print(var_dic_list())"
    },
    "r": {
     "delete_cmd_postfix": ") ",
     "delete_cmd_prefix": "rm(",
     "library": "var_list.r",
     "varRefreshCmd": "cat(var_dic_list()) "
    }
   },
   "types_to_exclude": [
    "module",
    "function",
    "builtin_function_or_method",
    "instance",
    "_Feature"
   ],
   "window_display": false
  }
 },
 "nbformat": 4,
 "nbformat_minor": 5
}
